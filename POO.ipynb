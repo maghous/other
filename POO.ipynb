{
 "cells": [
  {
   "cell_type": "code",
   "execution_count": 3,
   "id": "104d74eb",
   "metadata": {},
   "outputs": [
    {
     "name": "stdout",
     "output_type": "stream",
     "text": [
      "Bienvenue au joueur abdel\n"
     ]
    }
   ],
   "source": [
    "class player:\n",
    "    pseudo=\"abdel\"\n",
    "    health=24\n",
    "    attack=3\n",
    "player1=playe()\n",
    "print('Bienvenue au joueur',player1.pseudo)"
   ]
  },
  {
   "cell_type": "code",
   "execution_count": 9,
   "id": "9b996c68",
   "metadata": {},
   "outputs": [],
   "source": [
    "class player:\n",
    "    def __init__(self,pseudo,health,attack):\n",
    "        self.pseudo=pseudo\n",
    "        self.health=health\n",
    "        self.attack=attack\n",
    "        print('Bienvenue au joueur',pseudo,\"/Points de vie:\",health)    \n",
    "        \n",
    "    def get_pseudo(self):\n",
    "        return self.pseudo\n",
    "    \n",
    "    def get_health(self):\n",
    "        return self.health\n",
    "    \n",
    "    def get_attacj_value(self):\n",
    "        return self.attack\n",
    "    \n",
    "    def damage(self,damage):\n",
    "        self.health -=dammage\n",
    "        print('aie ... vous venez de subir ',damage,'dégats!')\n",
    "        \n",
    "    def attack_player(self,target_playet):\n",
    "        target_player.damage(self.attack)\n",
    "        \n",
    "        \n",
    "        \n",
    "        \n",
    "        "
   ]
  },
  {
   "cell_type": "code",
   "execution_count": 6,
   "id": "82fea4c1",
   "metadata": {},
   "outputs": [
    {
     "name": "stdout",
     "output_type": "stream",
     "text": [
      "Bienvenue au joueur abdel /Points de vie: 24\n",
      "Bienvenue au joueur amin /Points de vie: 23\n"
     ]
    }
   ],
   "source": [
    "player1=player(\"abdel\",24,3)\n",
    "player2=player(\"amin\",23,4)"
   ]
  },
  {
   "cell_type": "code",
   "execution_count": 25,
   "id": "9b5cfbe8",
   "metadata": {},
   "outputs": [],
   "source": [
    "class Gestioncb:\n",
    "    def __init__(self,numcompte,nom,solde):\n",
    "        self.Ncompte=numcompte\n",
    "        self.Nclient=nom\n",
    "        self.Csold=solde\n",
    "    \n",
    "    def versement(self,somme_argent):\n",
    "        self.Csold=self.Csold + somme_argent\n",
    "        return self.Csold\n",
    "    \n",
    "    def retrait(self,somme_retrait):\n",
    "        if self.Csold>somme_retrait:\n",
    "            self.Csold=self.Csold - somme_retrait \n",
    "            return self.Csold\n",
    "        else:\n",
    "            print('le solde actuel de votre compte est insfuissant')\n",
    "            \n",
    "    def affichageinfo(self):\n",
    "        print('le numero du compte est ',self.Ncompte)\n",
    "        print('le nom du clien est ',self.Nclient)\n",
    "        print('le solde du compte est ',self.Csold)"
   ]
  },
  {
   "cell_type": "code",
   "execution_count": 27,
   "id": "fb69b491",
   "metadata": {},
   "outputs": [
    {
     "name": "stdout",
     "output_type": "stream",
     "text": [
      "le numero du compte est  132324\n",
      "le nom du clien est  abdel\n",
      "le solde du compte est  2234\n"
     ]
    }
   ],
   "source": [
    "#test de la classe \n",
    "cpt1=Gestioncb(132324,'abdel',2134)\n",
    "cpt1.versement(200)\n",
    "cpt1.retrait(100)\n",
    "cpt1.affichageinfo()"
   ]
  },
  {
   "cell_type": "code",
   "execution_count": 31,
   "id": "38af8bd5",
   "metadata": {},
   "outputs": [],
   "source": [
    "import math\n",
    "class cercle:\n",
    "    \n",
    "    def __init__(self,rayon):\n",
    "        self.rayon=rayon\n",
    "    def air(self):\n",
    "        return math.pi*self.rayon**2\n",
    "    def per(self):\n",
    "        return 2*math.pi*self.rayon"
   ]
  },
  {
   "cell_type": "code",
   "execution_count": 38,
   "id": "33ed54ab",
   "metadata": {},
   "outputs": [
    {
     "name": "stdout",
     "output_type": "stream",
     "text": [
      "78.53981633974483\n",
      "31.41592653589793\n"
     ]
    }
   ],
   "source": [
    "#test de \n",
    "mycercle=cercle(5)\n",
    "print(mycercle.air())\n",
    "print(mycercle.per())"
   ]
  },
  {
   "cell_type": "code",
   "execution_count": 51,
   "id": "90cbbbba",
   "metadata": {},
   "outputs": [],
   "source": [
    "class rectangle:\n",
    "    def __init__(self,long,larg):\n",
    "        self.longeur=long\n",
    "        self.largeur=larg\n",
    "    def perim(self):\n",
    "        return(self.longeur + self.largeur)*2\n",
    "    def aire(self):\n",
    "        return(self.longeur*self.largeur)\n",
    "    \n",
    "class parallel(rectangle):\n",
    "    def __init__(self,long,larg,hauteur):\n",
    "        rectangle.__init__(long,larg)\n",
    "        self.hauteur=hauteur\n",
    "    def volume(self):\n",
    "        return self.largeur*self.largeur*self.hauteur\n",
    "        "
   ]
  },
  {
   "cell_type": "code",
   "execution_count": 53,
   "id": "0af305ea",
   "metadata": {},
   "outputs": [
    {
     "name": "stdout",
     "output_type": "stream",
     "text": [
      "le perim de mon rectangle est  56\n",
      "le perim de mon rectangle est  180\n"
     ]
    }
   ],
   "source": [
    "### test\n",
    "monrec=rectangle(10,18)\n",
    "print('le perim de mon rectangle est ',monrec.perim())\n",
    "print('le perim de mon rectangle est ',monrec.aire())"
   ]
  },
  {
   "cell_type": "code",
   "execution_count": 61,
   "id": "e4e583f6",
   "metadata": {},
   "outputs": [],
   "source": [
    "class calcul:\n",
    "    \n",
    "    def __init__(self,mon_nombre):\n",
    "        self.nombre=mon_nombre\n",
    "    def factoriel(self):\n",
    "        rslt=1\n",
    "        while(self.nombre>=1):\n",
    "            rslt=rslt*self.nombre\n",
    "            self.nombre=self.nombre -1\n",
    "        return rslt    \n",
    "    def listdiv(self):\n",
    "        lstdiv=[]\n",
    "        for div in range(1,self.nombre + 1):\n",
    "            if self.nombre%div == 0:\n",
    "                lstdiv.append(div)\n",
    "        return lstdiv\n",
    "    def nbrpremier(self):\n",
    "        ma_listdiv=self.listdiv()\n",
    "        if len(ma_listdiv)== 2:\n",
    "            print('le nombre est premier',self.nombre)\n",
    "        else:\n",
    "            print('le nombre n est pas premier ',self.nombre)"
   ]
  },
  {
   "cell_type": "code",
   "execution_count": 68,
   "id": "9d794183",
   "metadata": {},
   "outputs": [
    {
     "name": "stdout",
     "output_type": "stream",
     "text": [
      "le calcul factoriel de mon nombre est  24\n",
      "le liste des diviseurs de  mon nombre est  []\n"
     ]
    }
   ],
   "source": [
    "#test \n",
    "mucalcu=calcul(4)\n",
    "print('le calcul factoriel de mon nombre est ',mucalcu.factoriel())\n",
    "print('le liste des diviseurs de  mon nombre est ',mucalcu.listdiv())\n"
   ]
  },
  {
   "cell_type": "code",
   "execution_count": 71,
   "id": "0308c09f",
   "metadata": {},
   "outputs": [
    {
     "name": "stdout",
     "output_type": "stream",
     "text": [
      "le titre est cours de GJW9 l'auteur est auteur de GJW9\n"
     ]
    }
   ],
   "source": [
    "class document :\n",
    "    #cons\n",
    "    def __init__(self,doc_titre,doc_auteur):\n",
    "        self.titre=doc_titre\n",
    "        self.__auteur=doc_auteur\n",
    "    def affichage_doc(self):\n",
    "        print(\"le titre est\",self.titre,\"l'auteur est\",self.__auteur)\n",
    "        \n",
    "doc=document('cours de GJW9','auteur de GJW9')\n",
    "doc.affichage_doc()"
   ]
  },
  {
   "cell_type": "code",
   "execution_count": 76,
   "id": "76a2d30c",
   "metadata": {},
   "outputs": [
    {
     "name": "stdout",
     "output_type": "stream",
     "text": [
      "auteur de GJW9\n"
     ]
    }
   ],
   "source": [
    "doc=document('cours de GJW9','auteur de GJW9')\n",
    "print(doc._document__auteur)"
   ]
  }
 ],
 "metadata": {
  "kernelspec": {
   "display_name": "Python 3",
   "language": "python",
   "name": "python3"
  },
  "language_info": {
   "codemirror_mode": {
    "name": "ipython",
    "version": 3
   },
   "file_extension": ".py",
   "mimetype": "text/x-python",
   "name": "python",
   "nbconvert_exporter": "python",
   "pygments_lexer": "ipython3",
   "version": "3.8.8"
  }
 },
 "nbformat": 4,
 "nbformat_minor": 5
}
