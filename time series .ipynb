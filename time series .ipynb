{
 "cells": [
  {
   "cell_type": "code",
   "execution_count": 32,
   "id": "ee416a06",
   "metadata": {},
   "outputs": [],
   "source": [
    "import pandas as pd \n",
    "import numpy as np \n",
    "from statsmodels.tsa.stattools import adfuller\n",
    "import matplotlib.pyplot as plt"
   ]
  },
  {
   "cell_type": "code",
   "execution_count": 15,
   "id": "ce9664ae",
   "metadata": {},
   "outputs": [
    {
     "data": {
      "text/html": [
       "<div>\n",
       "<style scoped>\n",
       "    .dataframe tbody tr th:only-of-type {\n",
       "        vertical-align: middle;\n",
       "    }\n",
       "\n",
       "    .dataframe tbody tr th {\n",
       "        vertical-align: top;\n",
       "    }\n",
       "\n",
       "    .dataframe thead th {\n",
       "        text-align: right;\n",
       "    }\n",
       "</style>\n",
       "<table border=\"1\" class=\"dataframe\">\n",
       "  <thead>\n",
       "    <tr style=\"text-align: right;\">\n",
       "      <th></th>\n",
       "      <th>year</th>\n",
       "      <th>state</th>\n",
       "      <th>month</th>\n",
       "      <th>number</th>\n",
       "      <th>date</th>\n",
       "    </tr>\n",
       "  </thead>\n",
       "  <tbody>\n",
       "    <tr>\n",
       "      <th>620</th>\n",
       "      <td>1999</td>\n",
       "      <td>Amapa</td>\n",
       "      <td>Agosto</td>\n",
       "      <td>0.0</td>\n",
       "      <td>1999-01-01</td>\n",
       "    </tr>\n",
       "    <tr>\n",
       "      <th>3364</th>\n",
       "      <td>2015</td>\n",
       "      <td>Paraiba</td>\n",
       "      <td>Janeiro</td>\n",
       "      <td>42.0</td>\n",
       "      <td>2015-01-01</td>\n",
       "    </tr>\n",
       "    <tr>\n",
       "      <th>666</th>\n",
       "      <td>2005</td>\n",
       "      <td>Amapa</td>\n",
       "      <td>Outubro</td>\n",
       "      <td>335.0</td>\n",
       "      <td>2005-01-01</td>\n",
       "    </tr>\n",
       "    <tr>\n",
       "      <th>4609</th>\n",
       "      <td>2005</td>\n",
       "      <td>Rio</td>\n",
       "      <td>Abril</td>\n",
       "      <td>2.0</td>\n",
       "      <td>2005-01-01</td>\n",
       "    </tr>\n",
       "    <tr>\n",
       "      <th>3532</th>\n",
       "      <td>2003</td>\n",
       "      <td>Paraiba</td>\n",
       "      <td>Outubro</td>\n",
       "      <td>381.0</td>\n",
       "      <td>2003-01-01</td>\n",
       "    </tr>\n",
       "  </tbody>\n",
       "</table>\n",
       "</div>"
      ],
      "text/plain": [
       "      year    state    month  number        date\n",
       "620   1999    Amapa   Agosto     0.0  1999-01-01\n",
       "3364  2015  Paraiba  Janeiro    42.0  2015-01-01\n",
       "666   2005    Amapa  Outubro   335.0  2005-01-01\n",
       "4609  2005      Rio    Abril     2.0  2005-01-01\n",
       "3532  2003  Paraiba  Outubro   381.0  2003-01-01"
      ]
     },
     "execution_count": 15,
     "metadata": {},
     "output_type": "execute_result"
    }
   ],
   "source": [
    "data=pd.read_csv('amazon.csv')\n",
    "data.sample(5)"
   ]
  },
  {
   "cell_type": "code",
   "execution_count": 19,
   "id": "b88a1d93",
   "metadata": {},
   "outputs": [],
   "source": [
    "list_ = range(1, 13)\n",
    "m = dict(zip(data['month'].unique(), list_))\n",
    "data['month'] = data['month'].map(m)\n",
    "def quarter(month):\n",
    "    if month == 1 or month == 2 or month == 3:\n",
    "        return '1_Quarter'\n",
    "    elif month == 4 or month == 5 or month == 6:\n",
    "        return '2_Quarter'\n",
    "    elif month == 7 or month == 8 or month == 9:\n",
    "        return '3_Quarter'\n",
    "    elif month == 10 or month == 11 or month == 12:\n",
    "        return '4_Quarter'"
   ]
  },
  {
   "cell_type": "code",
   "execution_count": 20,
   "id": "8768b1b3",
   "metadata": {},
   "outputs": [],
   "source": [
    "data['quarter'] = data['month'].apply(lambda x : quarter(x))"
   ]
  },
  {
   "cell_type": "code",
   "execution_count": 22,
   "id": "ae4524fa",
   "metadata": {},
   "outputs": [
    {
     "data": {
      "text/html": [
       "<div>\n",
       "<style scoped>\n",
       "    .dataframe tbody tr th:only-of-type {\n",
       "        vertical-align: middle;\n",
       "    }\n",
       "\n",
       "    .dataframe tbody tr th {\n",
       "        vertical-align: top;\n",
       "    }\n",
       "\n",
       "    .dataframe thead th {\n",
       "        text-align: right;\n",
       "    }\n",
       "</style>\n",
       "<table border=\"1\" class=\"dataframe\">\n",
       "  <thead>\n",
       "    <tr style=\"text-align: right;\">\n",
       "      <th></th>\n",
       "      <th>year</th>\n",
       "      <th>state</th>\n",
       "      <th>month</th>\n",
       "      <th>number</th>\n",
       "      <th>date</th>\n",
       "      <th>quarter</th>\n",
       "    </tr>\n",
       "  </thead>\n",
       "  <tbody>\n",
       "    <tr>\n",
       "      <th>520</th>\n",
       "      <td>1999</td>\n",
       "      <td>Amapa</td>\n",
       "      <td>3</td>\n",
       "      <td>2.0</td>\n",
       "      <td>1999-01-01</td>\n",
       "      <td>1_Quarter</td>\n",
       "    </tr>\n",
       "    <tr>\n",
       "      <th>2404</th>\n",
       "      <td>2011</td>\n",
       "      <td>Mato Grosso</td>\n",
       "      <td>1</td>\n",
       "      <td>171.0</td>\n",
       "      <td>2011-01-01</td>\n",
       "      <td>1_Quarter</td>\n",
       "    </tr>\n",
       "    <tr>\n",
       "      <th>5127</th>\n",
       "      <td>2005</td>\n",
       "      <td>Rondonia</td>\n",
       "      <td>6</td>\n",
       "      <td>153.0</td>\n",
       "      <td>2005-01-01</td>\n",
       "      <td>2_Quarter</td>\n",
       "    </tr>\n",
       "    <tr>\n",
       "      <th>2703</th>\n",
       "      <td>2011</td>\n",
       "      <td>Mato Grosso</td>\n",
       "      <td>4</td>\n",
       "      <td>23.0</td>\n",
       "      <td>2011-01-01</td>\n",
       "      <td>2_Quarter</td>\n",
       "    </tr>\n",
       "    <tr>\n",
       "      <th>257</th>\n",
       "      <td>2016</td>\n",
       "      <td>Alagoas</td>\n",
       "      <td>1</td>\n",
       "      <td>24.0</td>\n",
       "      <td>2016-01-01</td>\n",
       "      <td>1_Quarter</td>\n",
       "    </tr>\n",
       "  </tbody>\n",
       "</table>\n",
       "</div>"
      ],
      "text/plain": [
       "      year        state  month  number        date    quarter\n",
       "520   1999        Amapa      3     2.0  1999-01-01  1_Quarter\n",
       "2404  2011  Mato Grosso      1   171.0  2011-01-01  1_Quarter\n",
       "5127  2005     Rondonia      6   153.0  2005-01-01  2_Quarter\n",
       "2703  2011  Mato Grosso      4    23.0  2011-01-01  2_Quarter\n",
       "257   2016      Alagoas      1    24.0  2016-01-01  1_Quarter"
      ]
     },
     "execution_count": 22,
     "metadata": {},
     "output_type": "execute_result"
    }
   ],
   "source": [
    "data.sample(5)"
   ]
  },
  {
   "cell_type": "code",
   "execution_count": 26,
   "id": "d196d87e",
   "metadata": {},
   "outputs": [],
   "source": [
    "aux = data.groupby(['year', 'quarter'])['number'].agg('sum')\n",
    "indexs = []\n",
    "for year,quarter in list(aux.index):\n",
    "    indexs.append(str(year)+'_'+str(quarter))"
   ]
  },
  {
   "cell_type": "code",
   "execution_count": 30,
   "id": "cb83d4af",
   "metadata": {},
   "outputs": [
    {
     "data": {
      "image/png": "[encoded data removed]",
      "text/plain": [
       "<Figure size 432x288 with 1 Axes>"
      ]
     },
     "metadata": {
      "needs_background": "light"
     },
     "output_type": "display_data"
    }
   ],
   "source": [
    "plt.plot(indexs,list(aux[:]),color=\"red\")\n",
    "plt.title('quarter graphs');"
   ]
  },
  {
   "cell_type": "code",
   "execution_count": 33,
   "id": "400b7bc9",
   "metadata": {},
   "outputs": [
    {
     "name": "stdout",
     "output_type": "stream",
     "text": [
      "Results of Dickey-Fuller Test:\n",
      "Test Statistic                 -2.680682\n",
      "p-value                         0.077441\n",
      "#Lags Used                      5.000000\n",
      "Number of Observations Used    74.000000\n",
      "Critical Value (1%)            -3.521980\n",
      "Critical Value (5%)            -2.901470\n",
      "Critical Value (10%)           -2.588072\n",
      "dtype: float64\n"
     ]
    }
   ],
   "source": [
    "def adf_test(timeseries):\n",
    "    print ('Results of Dickey-Fuller Test:')\n",
    "    dftest = adfuller(timeseries, autolag='AIC')\n",
    "    dfoutput = pd.Series(dftest[0:4], index=['Test Statistic','p-value','#Lags Used','Number of Observations Used'])\n",
    "    for key,value in dftest[4].items():\n",
    "        dfoutput['Critical Value (%s)'%key] = value\n",
    "    print (dfoutput)\n",
    "\n",
    "adf_test(list(aux[:]))"
   ]
  },
  {
   "cell_type": "code",
   "execution_count": null,
   "id": "108b2c15",
   "metadata": {},
   "outputs": [],
   "source": []
  }
 ],
 "metadata": {
  "kernelspec": {
   "display_name": "Python 3",
   "language": "python",
   "name": "python3"
  },
  "language_info": {
   "codemirror_mode": {
    "name": "ipython",
    "version": 3
   },
   "file_extension": ".py",
   "mimetype": "text/x-python",
   "name": "python",
   "nbconvert_exporter": "python",
   "pygments_lexer": "ipython3",
   "version": "3.8.8"
  }
 },
 "nbformat": 4,
 "nbformat_minor": 5
}
